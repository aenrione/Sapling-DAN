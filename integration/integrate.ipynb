{
 "cells": [
  {
   "cell_type": "code",
   "execution_count": 5,
   "id": "d60bf4c1",
   "metadata": {},
   "outputs": [],
   "source": [
    "import numpy as np\n",
    "from scipy import sparse"
   ]
  },
  {
   "cell_type": "code",
   "execution_count": 18,
   "id": "a5e3cf91",
   "metadata": {},
   "outputs": [],
   "source": [
    "from DAN.dataloader import BasicDataset, Loader\n",
    "from DAN.model import LAE_DAN\n",
    "from SaplingSimilarity.similarities import sapling\n",
    "from SaplingSimilarity.utils import scores, read_data_validation"
   ]
  },
  {
   "cell_type": "code",
   "execution_count": 16,
   "id": "d4aa1c82",
   "metadata": {},
   "outputs": [],
   "source": [
    "config = {\n",
    "    \"reg_p\": 1e-2,\n",
    "    \"alpha\": 0.5,\n",
    "    \"beta\" : 0.5,\n",
    "    \"drop_p\": 0.0\n",
    "}\n",
    "gamma = 0.5"
   ]
  },
  {
   "cell_type": "code",
   "execution_count": 19,
   "id": "74e0d95b",
   "metadata": {},
   "outputs": [
    {
     "name": "stdout",
     "output_type": "stream",
     "text": [
      "\u001b[0;30;43mloading [DAN/abook]\u001b[0m\n",
      "42643 training users, 5000 valid users, 5000 test users, 91599 items\n",
      "2413689 interactions for training\n",
      "54411 interactions for validation\n",
      "55899 interactions for testing\n",
      "abook is ready to go\n"
     ]
    }
   ],
   "source": [
    "dataset = Loader(path=\"DAN/abook\")\n",
    "X = dataset.UserItemNet"
   ]
  },
  {
   "cell_type": "code",
   "execution_count": 20,
   "id": "776f5057",
   "metadata": {},
   "outputs": [],
   "source": [
    "train_matrix = X.astype(np.float32)\n",
    "user_counts = np.array(train_matrix.sum(axis=1)).ravel()\n",
    "item_counts = np.array(train_matrix.sum(axis=0)).ravel()"
   ]
  },
  {
   "cell_type": "code",
   "execution_count": 21,
   "id": "4090be41",
   "metadata": {},
   "outputs": [],
   "source": [
    "eps = 1e-8\n",
    "user_counts_safe = user_counts + eps\n",
    "item_counts_safe = item_counts + eps\n",
    "\n",
    "beta = config[\"beta\"]\n",
    "alpha_final = 1 - config[\"alpha\"]"
   ]
  },
  {
   "cell_type": "code",
   "execution_count": 22,
   "id": "459465ae",
   "metadata": {},
   "outputs": [],
   "source": [
    "user_power = np.power(user_counts_safe, -beta)             \n",
    "item_power = np.power(item_counts_safe, -(1 - alpha_final))"
   ]
  },
  {
   "cell_type": "code",
   "execution_count": 23,
   "id": "026633ce",
   "metadata": {},
   "outputs": [],
   "source": [
    "X_user_norm = X.multiply(user_power.reshape(-1, 1))       "
   ]
  },
  {
   "cell_type": "code",
   "execution_count": 24,
   "id": "10777a43",
   "metadata": {},
   "outputs": [],
   "source": [
    "X_norm = X_user_norm.multiply(item_power.reshape(1, -1))   "
   ]
  },
  {
   "cell_type": "code",
   "execution_count": 25,
   "id": "428d3c02",
   "metadata": {},
   "outputs": [
    {
     "ename": "MemoryError",
     "evalue": "Unable to allocate 29.1 GiB for an array with shape (42643, 91599) and data type float64",
     "output_type": "error",
     "traceback": [
      "\u001b[0;31m---------------------------------------------------------------------------\u001b[0m",
      "\u001b[0;31mMemoryError\u001b[0m                               Traceback (most recent call last)",
      "Cell \u001b[0;32mIn[25], line 1\u001b[0m\n\u001b[0;32m----> 1\u001b[0m M_norm \u001b[38;5;241m=\u001b[39m \u001b[43mX_norm\u001b[49m\u001b[38;5;241;43m.\u001b[39;49m\u001b[43mtoarray\u001b[49m\u001b[43m(\u001b[49m\u001b[43m)\u001b[49m\u001b[38;5;241m.\u001b[39mastype(np\u001b[38;5;241m.\u001b[39mfloat32)\n",
      "File \u001b[0;32m~/.local/lib/python3.10/site-packages/scipy/sparse/_coo.py:269\u001b[0m, in \u001b[0;36m_coo_base.toarray\u001b[0;34m(self, order, out)\u001b[0m\n\u001b[1;32m    268\u001b[0m \u001b[38;5;28;01mdef\u001b[39;00m \u001b[38;5;21mtoarray\u001b[39m(\u001b[38;5;28mself\u001b[39m, order\u001b[38;5;241m=\u001b[39m\u001b[38;5;28;01mNone\u001b[39;00m, out\u001b[38;5;241m=\u001b[39m\u001b[38;5;28;01mNone\u001b[39;00m):\n\u001b[0;32m--> 269\u001b[0m     B \u001b[38;5;241m=\u001b[39m \u001b[38;5;28;43mself\u001b[39;49m\u001b[38;5;241;43m.\u001b[39;49m\u001b[43m_process_toarray_args\u001b[49m\u001b[43m(\u001b[49m\u001b[43morder\u001b[49m\u001b[43m,\u001b[49m\u001b[43m \u001b[49m\u001b[43mout\u001b[49m\u001b[43m)\u001b[49m\n\u001b[1;32m    270\u001b[0m     fortran \u001b[38;5;241m=\u001b[39m \u001b[38;5;28mint\u001b[39m(B\u001b[38;5;241m.\u001b[39mflags\u001b[38;5;241m.\u001b[39mf_contiguous)\n\u001b[1;32m    271\u001b[0m     \u001b[38;5;28;01mif\u001b[39;00m \u001b[38;5;129;01mnot\u001b[39;00m fortran \u001b[38;5;129;01mand\u001b[39;00m \u001b[38;5;129;01mnot\u001b[39;00m B\u001b[38;5;241m.\u001b[39mflags\u001b[38;5;241m.\u001b[39mc_contiguous:\n",
      "File \u001b[0;32m~/.local/lib/python3.10/site-packages/scipy/sparse/_base.py:1301\u001b[0m, in \u001b[0;36m_spbase._process_toarray_args\u001b[0;34m(self, order, out)\u001b[0m\n\u001b[1;32m   1299\u001b[0m     \u001b[38;5;28;01mreturn\u001b[39;00m out\n\u001b[1;32m   1300\u001b[0m \u001b[38;5;28;01melse\u001b[39;00m:\n\u001b[0;32m-> 1301\u001b[0m     \u001b[38;5;28;01mreturn\u001b[39;00m \u001b[43mnp\u001b[49m\u001b[38;5;241;43m.\u001b[39;49m\u001b[43mzeros\u001b[49m\u001b[43m(\u001b[49m\u001b[38;5;28;43mself\u001b[39;49m\u001b[38;5;241;43m.\u001b[39;49m\u001b[43mshape\u001b[49m\u001b[43m,\u001b[49m\u001b[43m \u001b[49m\u001b[43mdtype\u001b[49m\u001b[38;5;241;43m=\u001b[39;49m\u001b[38;5;28;43mself\u001b[39;49m\u001b[38;5;241;43m.\u001b[39;49m\u001b[43mdtype\u001b[49m\u001b[43m,\u001b[49m\u001b[43m \u001b[49m\u001b[43morder\u001b[49m\u001b[38;5;241;43m=\u001b[39;49m\u001b[43morder\u001b[49m\u001b[43m)\u001b[49m\n",
      "\u001b[0;31mMemoryError\u001b[0m: Unable to allocate 29.1 GiB for an array with shape (42643, 91599) and data type float64"
     ]
    }
   ],
   "source": [
    "M_norm = X_norm.toarray().astype(np.float32)"
   ]
  },
  {
   "cell_type": "code",
   "execution_count": null,
   "id": "27305bbe",
   "metadata": {},
   "outputs": [],
   "source": [
    "B_user = sapling(M_norm, projection=0)\n",
    "B_item = sapling(M_norm, projection=1)"
   ]
  },
  {
   "cell_type": "code",
   "execution_count": null,
   "id": "a4682e97",
   "metadata": {},
   "outputs": [],
   "source": [
    "rec_u = np.nan_to_num( np.dot(B_user, M_norm).T / np.sum(np.abs(B_user), axis=1) ).T\n",
    "rec_i = np.nan_to_num( np.dot(M_norm, B_item) / np.sum(np.abs(B_item), axis=0) )\n",
    "\n",
    "rec_final = (1 - gamma)*rec_u + gamma*rec_i"
   ]
  },
  {
   "cell_type": "code",
   "execution_count": null,
   "id": "4663c5c4",
   "metadata": {},
   "outputs": [],
   "source": [
    "N_users, N_items, _, train_list, valid_list = read_data_validation(\"DAN/abook\")"
   ]
  },
  {
   "cell_type": "code",
   "execution_count": null,
   "id": "7cdf1b0d",
   "metadata": {},
   "outputs": [],
   "source": [
    "scores_u     = scores(train_list, valid_list, rec_u,     N_users, N_items, K=20)\n",
    "scores_i     = scores(train_list, valid_list, rec_i,     N_users, N_items, K=20)\n",
    "scores_final = scores(train_list, valid_list, rec_final, N_users, N_items, K=20)"
   ]
  },
  {
   "cell_type": "code",
   "execution_count": null,
   "id": "12c6da56",
   "metadata": {},
   "outputs": [],
   "source": [
    "print(\"=== Resultados Sapling usando X_norm de DAN ===\")\n",
    "print(\"User-based \\t prec@20: {:.4f}, recall@20: {:.4f}, ndcg@20: {:.4f}\".format(\n",
    "      scores_u[0], scores_u[1], scores_u[2]))\n",
    "print(\"Item-based \\t prec@20: {:.4f}, recall@20: {:.4f}, ndcg@20: {:.4f}\".format(\n",
    "      scores_i[0], scores_i[1], scores_i[2]))\n",
    "print(\"Final (γ={:.2f})\\t prec@20: {:.4f}, recall@20: {:.4f}, ndcg@20: {:.4f}\".format(\n",
    "      gamma, scores_final[0], scores_final[1], scores_final[2]))"
   ]
  }
 ],
 "metadata": {
  "kernelspec": {
   "display_name": "Python 3",
   "language": "python",
   "name": "python3"
  },
  "language_info": {
   "codemirror_mode": {
    "name": "ipython",
    "version": 3
   },
   "file_extension": ".py",
   "mimetype": "text/x-python",
   "name": "python",
   "nbconvert_exporter": "python",
   "pygments_lexer": "ipython3",
   "version": "3.10.12"
  }
 },
 "nbformat": 4,
 "nbformat_minor": 5
}
